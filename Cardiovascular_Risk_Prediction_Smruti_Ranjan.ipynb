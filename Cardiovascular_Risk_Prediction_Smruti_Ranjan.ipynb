{
  "nbformat": 4,
  "nbformat_minor": 0,
  "metadata": {
    "colab": {
      "name": "Cardiovascular Risk Prediction - Smruti Ranjan.ipynb",
      "provenance": [],
      "collapsed_sections": [],
      "mount_file_id": "1WCXu9Pe0R2I1ifAr9UVhTcQNNXosDicj",
      "authorship_tag": "ABX9TyPLjqU+04vL7HuY4p+dnIkY",
      "include_colab_link": true
    },
    "kernelspec": {
      "name": "python3",
      "display_name": "Python 3"
    },
    "language_info": {
      "name": "python"
    }
  },
  "cells": [
    {
      "cell_type": "markdown",
      "metadata": {
        "id": "view-in-github",
        "colab_type": "text"
      },
      "source": [
        "<a href=\"https://colab.research.google.com/github/SmrutiRanjan27/Cardiovascular-Risk-Prediction/blob/main/Cardiovascular_Risk_Prediction_Smruti_Ranjan.ipynb\" target=\"_parent\"><img src=\"https://colab.research.google.com/assets/colab-badge.svg\" alt=\"Open In Colab\"/></a>"
      ]
    },
    {
      "cell_type": "code",
      "metadata": {
        "id": "9VJcMedizGW8"
      },
      "source": [
        "import pandas as pd\n",
        "import numpy as np\n",
        "from sklearn.model_selection import train_test_split\n",
        "import seaborn as sns\n",
        "import matplotlib.pyplot as plt\n",
        "import warnings"
      ],
      "execution_count": 102,
      "outputs": []
    },
    {
      "cell_type": "code",
      "metadata": {
        "id": "4aPitmk3HLj5"
      },
      "source": [
        "warnings.filterwarnings('ignore')"
      ],
      "execution_count": 103,
      "outputs": []
    },
    {
      "cell_type": "code",
      "metadata": {
        "id": "8Zepxin699St"
      },
      "source": [
        "file_dir = '/content/drive/MyDrive/AlmaBetter/Cohort Nilgiri/Module 4/Capstone Project/data/'\n",
        "df = pd.read_csv(file_dir + 'data_cardiovascular_risk.csv')"
      ],
      "execution_count": 104,
      "outputs": []
    },
    {
      "cell_type": "code",
      "metadata": {
        "colab": {
          "base_uri": "https://localhost:8080/"
        },
        "id": "Z9nfqy65-KEy",
        "outputId": "79b8417f-4cc6-4f03-9f0a-9d4f8b246097"
      },
      "source": [
        "df.info()"
      ],
      "execution_count": 105,
      "outputs": [
        {
          "output_type": "stream",
          "text": [
            "<class 'pandas.core.frame.DataFrame'>\n",
            "RangeIndex: 3390 entries, 0 to 3389\n",
            "Data columns (total 17 columns):\n",
            " #   Column           Non-Null Count  Dtype  \n",
            "---  ------           --------------  -----  \n",
            " 0   id               3390 non-null   int64  \n",
            " 1   age              3390 non-null   int64  \n",
            " 2   education        3303 non-null   float64\n",
            " 3   sex              3390 non-null   object \n",
            " 4   is_smoking       3390 non-null   object \n",
            " 5   cigsPerDay       3368 non-null   float64\n",
            " 6   BPMeds           3346 non-null   float64\n",
            " 7   prevalentStroke  3390 non-null   int64  \n",
            " 8   prevalentHyp     3390 non-null   int64  \n",
            " 9   diabetes         3390 non-null   int64  \n",
            " 10  totChol          3352 non-null   float64\n",
            " 11  sysBP            3390 non-null   float64\n",
            " 12  diaBP            3390 non-null   float64\n",
            " 13  BMI              3376 non-null   float64\n",
            " 14  heartRate        3389 non-null   float64\n",
            " 15  glucose          3086 non-null   float64\n",
            " 16  TenYearCHD       3390 non-null   int64  \n",
            "dtypes: float64(9), int64(6), object(2)\n",
            "memory usage: 450.4+ KB\n"
          ],
          "name": "stdout"
        }
      ]
    },
    {
      "cell_type": "code",
      "metadata": {
        "colab": {
          "base_uri": "https://localhost:8080/"
        },
        "id": "Ym085uT1Diw3",
        "outputId": "54d08c45-bca9-42f0-d0db-f611bf4d2974"
      },
      "source": [
        "# lets check for distribution of classes\n",
        "class_0_count, class_1_count = df[df['TenYearCHD']==0].shape[0], df[df['TenYearCHD']==1].shape[0]\n",
        "print('Class imbalance = %d: %d' % (class_0_count, class_1_count)) # need to address this after some EDA"
      ],
      "execution_count": 106,
      "outputs": [
        {
          "output_type": "stream",
          "text": [
            "Class imbalance = 2879: 511\n"
          ],
          "name": "stdout"
        }
      ]
    },
    {
      "cell_type": "markdown",
      "metadata": {
        "id": "PPO3IJBeBKZy"
      },
      "source": [
        "There are 17 columns in the dataset. Out of which 15 are attributes/features, column 0 is the id of each sample, and column 16 is the target variable. Before doing some data cleaning and EDA, lets split our dataset into train and test data.<br>"
      ]
    },
    {
      "cell_type": "code",
      "metadata": {
        "id": "j3zia5K9CMXL"
      },
      "source": [
        "train_df, test_df = train_test_split(df, test_size=0.2, stratify=df['TenYearCHD'], random_state = 1)"
      ],
      "execution_count": 107,
      "outputs": []
    },
    {
      "cell_type": "code",
      "metadata": {
        "colab": {
          "base_uri": "https://localhost:8080/"
        },
        "id": "5-bIGLdGDLeH",
        "outputId": "4efcc9b8-43bc-44a4-b94e-0829a42abff5"
      },
      "source": [
        "train_df.shape"
      ],
      "execution_count": 108,
      "outputs": [
        {
          "output_type": "execute_result",
          "data": {
            "text/plain": [
              "(2712, 17)"
            ]
          },
          "metadata": {
            "tags": []
          },
          "execution_count": 108
        }
      ]
    },
    {
      "cell_type": "code",
      "metadata": {
        "colab": {
          "base_uri": "https://localhost:8080/"
        },
        "id": "Iu0VxoBgDPNy",
        "outputId": "b82c097e-3ac7-4371-f3db-c906ef6ff0cb"
      },
      "source": [
        "test_df.shape"
      ],
      "execution_count": 109,
      "outputs": [
        {
          "output_type": "execute_result",
          "data": {
            "text/plain": [
              "(678, 17)"
            ]
          },
          "metadata": {
            "tags": []
          },
          "execution_count": 109
        }
      ]
    },
    {
      "cell_type": "markdown",
      "metadata": {
        "id": "HcFeuT9_YCPx"
      },
      "source": [
        "### **Education**"
      ]
    },
    {
      "cell_type": "code",
      "metadata": {
        "colab": {
          "base_uri": "https://localhost:8080/"
        },
        "id": "LP84vHQ2Q-cm",
        "outputId": "18a4f163-c01c-4d60-8c96-1a908c1e5016"
      },
      "source": [
        "train_df.education.unique()"
      ],
      "execution_count": 110,
      "outputs": [
        {
          "output_type": "execute_result",
          "data": {
            "text/plain": [
              "array([ 2.,  3.,  1.,  4., nan])"
            ]
          },
          "metadata": {
            "tags": []
          },
          "execution_count": 110
        }
      ]
    },
    {
      "cell_type": "code",
      "metadata": {
        "colab": {
          "base_uri": "https://localhost:8080/",
          "height": 296
        },
        "id": "N8u77VLaTkaq",
        "outputId": "5316ead4-64c3-4c48-da7f-caddb431b2a6"
      },
      "source": [
        "sns.histplot(x='education',hue='TenYearCHD',data=train_df, stat='density', multiple=\"dodge\", shrink=1.2)"
      ],
      "execution_count": 111,
      "outputs": [
        {
          "output_type": "execute_result",
          "data": {
            "text/plain": [
              "<matplotlib.axes._subplots.AxesSubplot at 0x7fa7db0bf3d0>"
            ]
          },
          "metadata": {
            "tags": []
          },
          "execution_count": 111
        },
        {
          "output_type": "display_data",
          "data": {
            "image/png": "[encoded data removed]",
            "text/plain": [
              "<Figure size 432x288 with 1 Axes>"
            ]
          },
          "metadata": {
            "tags": [],
            "needs_background": "light"
          }
        }
      ]
    },
    {
      "cell_type": "code",
      "metadata": {
        "colab": {
          "base_uri": "https://localhost:8080/"
        },
        "id": "gp2iYHg1YL7g",
        "outputId": "3bb153b6-afeb-4bf4-9ab3-6f38f1036277"
      },
      "source": [
        "ed_fill = train_df['education'].median()\n",
        "print(ed_fill)\n",
        "train_df['education'] = train_df['education'].fillna(ed_fill)"
      ],
      "execution_count": 112,
      "outputs": [
        {
          "output_type": "stream",
          "text": [
            "2.0\n"
          ],
          "name": "stdout"
        }
      ]
    },
    {
      "cell_type": "markdown",
      "metadata": {
        "id": "LbSIOAtZYGCy"
      },
      "source": [
        "### **Age**"
      ]
    },
    {
      "cell_type": "code",
      "metadata": {
        "colab": {
          "base_uri": "https://localhost:8080/"
        },
        "id": "Gv7sAiquXkC9",
        "outputId": "41642abb-88ab-452c-f8a6-1a1478924cc5"
      },
      "source": [
        "train_df.age.unique()"
      ],
      "execution_count": 113,
      "outputs": [
        {
          "output_type": "execute_result",
          "data": {
            "text/plain": [
              "array([49, 51, 57, 59, 52, 60, 48, 40, 54, 39, 56, 44, 42, 43, 41, 45, 37,\n",
              "       61, 53, 62, 47, 36, 55, 34, 46, 64, 38, 58, 63, 35, 50, 65, 67, 66,\n",
              "       68, 33, 69, 70, 32])"
            ]
          },
          "metadata": {
            "tags": []
          },
          "execution_count": 113
        }
      ]
    },
    {
      "cell_type": "code",
      "metadata": {
        "colab": {
          "base_uri": "https://localhost:8080/",
          "height": 352
        },
        "id": "hrDmXuzyXq97",
        "outputId": "dee3cf13-4994-400b-e9ec-b78b543f14f1"
      },
      "source": [
        "fig, axes = plt.subplots(1,2,figsize=(15,5))\n",
        "sns.distplot(train_df['age'], ax=axes[0])\n",
        "sns.boxplot(y='age',x='TenYearCHD',data=train_df, ax=axes[1])"
      ],
      "execution_count": 114,
      "outputs": [
        {
          "output_type": "execute_result",
          "data": {
            "text/plain": [
              "<matplotlib.axes._subplots.AxesSubplot at 0x7fa7d9534050>"
            ]
          },
          "metadata": {
            "tags": []
          },
          "execution_count": 114
        },
        {
          "output_type": "display_data",
          "data": {
            "image/png": "[encoded data removed]",
            "text/plain": [
              "<Figure size 1080x360 with 2 Axes>"
            ]
          },
          "metadata": {
            "tags": [],
            "needs_background": "light"
          }
        }
      ]
    },
    {
      "cell_type": "markdown",
      "metadata": {
        "id": "LpFYkYT3ZF2G"
      },
      "source": [
        "### **Sex**"
      ]
    },
    {
      "cell_type": "code",
      "metadata": {
        "colab": {
          "base_uri": "https://localhost:8080/",
          "height": 296
        },
        "id": "0-gEZZGTZHRs",
        "outputId": "e5c59268-c9e6-484f-e226-ca391fea89fa"
      },
      "source": [
        "sns.histplot(x='sex',hue='TenYearCHD',data=train_df, stat='count', multiple=\"dodge\", shrink=0.8)"
      ],
      "execution_count": 115,
      "outputs": [
        {
          "output_type": "execute_result",
          "data": {
            "text/plain": [
              "<matplotlib.axes._subplots.AxesSubplot at 0x7fa7d95c1cd0>"
            ]
          },
          "metadata": {
            "tags": []
          },
          "execution_count": 115
        },
        {
          "output_type": "display_data",
          "data": {
            "image/png": "[encoded data removed]",
            "text/plain": [
              "<Figure size 432x288 with 1 Axes>"
            ]
          },
          "metadata": {
            "tags": [],
            "needs_background": "light"
          }
        }
      ]
    },
    {
      "cell_type": "markdown",
      "metadata": {
        "id": "xE6k5Xc5ZWu0"
      },
      "source": [
        "**Higher fraction of males are prone to cardiovascular diseases!**"
      ]
    },
    {
      "cell_type": "markdown",
      "metadata": {
        "id": "-vVHF8NqaRJM"
      },
      "source": [
        "### **Smoking**"
      ]
    },
    {
      "cell_type": "code",
      "metadata": {
        "colab": {
          "base_uri": "https://localhost:8080/",
          "height": 297
        },
        "id": "4H8PolcRZoSQ",
        "outputId": "ac98e5d8-7c8c-47df-d55b-ba414d06adeb"
      },
      "source": [
        "sns.histplot(x='is_smoking',hue='TenYearCHD',data=train_df, stat='count', multiple=\"dodge\", shrink=0.8)"
      ],
      "execution_count": 116,
      "outputs": [
        {
          "output_type": "execute_result",
          "data": {
            "text/plain": [
              "<matplotlib.axes._subplots.AxesSubplot at 0x7fa7db8741d0>"
            ]
          },
          "metadata": {
            "tags": []
          },
          "execution_count": 116
        },
        {
          "output_type": "display_data",
          "data": {
            "image/png": "[encoded data removed]",
            "text/plain": [
              "<Figure size 432x288 with 1 Axes>"
            ]
          },
          "metadata": {
            "tags": [],
            "needs_background": "light"
          }
        }
      ]
    },
    {
      "cell_type": "markdown",
      "metadata": {
        "id": "Njtp5oauZ25m"
      },
      "source": [
        "We can observe that comparatively, smokers are slightly more prone to positive cases!"
      ]
    },
    {
      "cell_type": "markdown",
      "metadata": {
        "id": "eeCkW6SybEl-"
      },
      "source": [
        "### **Cigarrettes per Day**"
      ]
    },
    {
      "cell_type": "code",
      "metadata": {
        "colab": {
          "base_uri": "https://localhost:8080/",
          "height": 351
        },
        "id": "LOhOAPK3ZTOG",
        "outputId": "b088d0b0-05de-40dc-a652-43a56d55310e"
      },
      "source": [
        "fig, axes = plt.subplots(1,2,figsize=(15,5))\n",
        "sns.distplot(train_df['cigsPerDay'], ax=axes[0])\n",
        "sns.boxplot(y='cigsPerDay',x='TenYearCHD',data=train_df, ax=axes[1])"
      ],
      "execution_count": 117,
      "outputs": [
        {
          "output_type": "execute_result",
          "data": {
            "text/plain": [
              "<matplotlib.axes._subplots.AxesSubplot at 0x7fa7db263f10>"
            ]
          },
          "metadata": {
            "tags": []
          },
          "execution_count": 117
        },
        {
          "output_type": "display_data",
          "data": {
            "image/png": "[encoded data removed]",
            "text/plain": [
              "<Figure size 1080x360 with 2 Axes>"
            ]
          },
          "metadata": {
            "tags": [],
            "needs_background": "light"
          }
        }
      ]
    },
    {
      "cell_type": "markdown",
      "metadata": {
        "id": "3dD_kixFau6T"
      },
      "source": [
        "**We see that the median is slighlty higher for the positive cases, which means people who smoke higher number of cigarette per day, tend to show cardio-vascular disease!**"
      ]
    },
    {
      "cell_type": "code",
      "metadata": {
        "colab": {
          "base_uri": "https://localhost:8080/"
        },
        "id": "2tqJPTQlbDaL",
        "outputId": "c307e9bd-fc25-46fc-dfad-f6d90357c779"
      },
      "source": [
        "cig_fill = train_df['cigsPerDay'].median()\n",
        "print(cig_fill)\n",
        "train_df['cigsPerDay'] = train_df['cigsPerDay'].fillna(cig_fill)"
      ],
      "execution_count": 118,
      "outputs": [
        {
          "output_type": "stream",
          "text": [
            "0.0\n"
          ],
          "name": "stdout"
        }
      ]
    },
    {
      "cell_type": "markdown",
      "metadata": {
        "id": "xBgVGVtwb8BK"
      },
      "source": [
        "### **BP Meds**"
      ]
    },
    {
      "cell_type": "code",
      "metadata": {
        "colab": {
          "base_uri": "https://localhost:8080/"
        },
        "id": "idIk7Qfnb_NE",
        "outputId": "fbfebacf-59a8-40a6-ce2b-f1820e9d4a18"
      },
      "source": [
        "train_df.BPMeds.unique()"
      ],
      "execution_count": 119,
      "outputs": [
        {
          "output_type": "execute_result",
          "data": {
            "text/plain": [
              "array([ 0.,  1., nan])"
            ]
          },
          "metadata": {
            "tags": []
          },
          "execution_count": 119
        }
      ]
    },
    {
      "cell_type": "code",
      "metadata": {
        "colab": {
          "base_uri": "https://localhost:8080/",
          "height": 296
        },
        "id": "qnfLpmPXcNyc",
        "outputId": "8a02eeb7-6eb2-4f72-b0fd-ca3299c8f8c5"
      },
      "source": [
        "sns.histplot(x='BPMeds',hue='TenYearCHD',data=train_df, stat='count', multiple=\"dodge\", shrink=1.2)"
      ],
      "execution_count": 120,
      "outputs": [
        {
          "output_type": "execute_result",
          "data": {
            "text/plain": [
              "<matplotlib.axes._subplots.AxesSubplot at 0x7fa7db08d1d0>"
            ]
          },
          "metadata": {
            "tags": []
          },
          "execution_count": 120
        },
        {
          "output_type": "display_data",
          "data": {
            "image/png": "[encoded data removed]",
            "text/plain": [
              "<Figure size 432x288 with 1 Axes>"
            ]
          },
          "metadata": {
            "tags": [],
            "needs_background": "light"
          }
        }
      ]
    },
    {
      "cell_type": "code",
      "metadata": {
        "colab": {
          "base_uri": "https://localhost:8080/"
        },
        "id": "aFqpyS4UdBgC",
        "outputId": "ba45cabc-ce06-4c0a-e7ff-46c0beb01a59"
      },
      "source": [
        "meds_fill = train_df['BPMeds'].mode()\n",
        "print(meds_fill)\n",
        "train_df['BPMeds'] = train_df['BPMeds'].fillna(meds_fill)"
      ],
      "execution_count": 121,
      "outputs": [
        {
          "output_type": "stream",
          "text": [
            "0    0.0\n",
            "dtype: float64\n"
          ],
          "name": "stdout"
        }
      ]
    },
    {
      "cell_type": "markdown",
      "metadata": {
        "id": "-gcUfbqBdXJO"
      },
      "source": [
        "### Heart **Rate**"
      ]
    },
    {
      "cell_type": "code",
      "metadata": {
        "colab": {
          "base_uri": "https://localhost:8080/",
          "height": 351
        },
        "id": "FHvXOj5MdZ5c",
        "outputId": "88c569d3-03db-46a5-bb3a-084081e2802f"
      },
      "source": [
        "fig, axes = plt.subplots(1,2,figsize=(15,5))\n",
        "sns.distplot(train_df['heartRate'], ax=axes[0])\n",
        "sns.boxplot(y='heartRate',x='TenYearCHD',data=train_df, ax=axes[1])"
      ],
      "execution_count": 122,
      "outputs": [
        {
          "output_type": "execute_result",
          "data": {
            "text/plain": [
              "<matplotlib.axes._subplots.AxesSubplot at 0x7fa7d95098d0>"
            ]
          },
          "metadata": {
            "tags": []
          },
          "execution_count": 122
        },
        {
          "output_type": "display_data",
          "data": {
            "image/png": "[encoded data removed]",
            "text/plain": [
              "<Figure size 1080x360 with 2 Axes>"
            ]
          },
          "metadata": {
            "tags": [],
            "needs_background": "light"
          }
        }
      ]
    },
    {
      "cell_type": "code",
      "metadata": {
        "colab": {
          "base_uri": "https://localhost:8080/"
        },
        "id": "lelIT-oJeV2I",
        "outputId": "5dde1c17-69ee-4ac7-87fd-8be13ec237b1"
      },
      "source": [
        "hr_fill = train_df['heartRate'].mode()\n",
        "print(hr_fill)\n",
        "train_df['heartRate'] = train_df['heartRate'].fillna(hr_fill)"
      ],
      "execution_count": 123,
      "outputs": [
        {
          "output_type": "stream",
          "text": [
            "0    75.0\n",
            "dtype: float64\n"
          ],
          "name": "stdout"
        }
      ]
    }
  ]
}